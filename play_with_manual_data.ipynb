{
 "cells": [
  {
   "cell_type": "code",
   "execution_count": 118,
   "metadata": {},
   "outputs": [],
   "source": [
    "import pandas as pd \n",
    "import numpy as np\n",
    "import plotly.express as px\n",
    "\n",
    "figure_kwargs = {\"width\": 600, \"height\": 400, \"template\": \"none\"}"
   ]
  },
  {
   "cell_type": "code",
   "execution_count": 119,
   "metadata": {},
   "outputs": [
    {
     "name": "stderr",
     "output_type": "stream",
     "text": [
      "/var/folders/yc/_2wjgdhd4px91396bq5wm7kr0000gn/T/ipykernel_86001/1712441053.py:5: FutureWarning:\n",
      "\n",
      "Downcasting behavior in `replace` is deprecated and will be removed in a future version. To retain the old behavior, explicitly call `result.infer_objects(copy=False)`. To opt-in to the future behavior, set `pd.set_option('future.no_silent_downcasting', True)`\n",
      "\n",
      "/var/folders/yc/_2wjgdhd4px91396bq5wm7kr0000gn/T/ipykernel_86001/1712441053.py:6: FutureWarning:\n",
      "\n",
      "Setting an item of incompatible dtype is deprecated and will raise an error in a future version of pandas. Value '' has dtype incompatible with float64, please explicitly cast to a compatible dtype first.\n",
      "\n"
     ]
    }
   ],
   "source": [
    "# Remove older neurips annotations & make labels prettier\n",
    "data = pd.read_csv(\"processed_data/manual_paper_annotations.csv\")\n",
    "data = data[data[\"year\"] == 24]\n",
    "data.rename(columns={\"seeds\": \"Number of Seeds\", \"environment_spec\": \"Environment fully specified\", \"hyperparams_spec\": \"Hyperparameters specified\", \"code_available\": \"Code available\"}, inplace=True)\n",
    "data.replace({\"neurips_24\": \"NeurIPS'24\", \"rlc_24\": \"RLC'24\", \"icml_24\": \"ICML'24\", \"iclr_24\": \"ICLR'24\"}, inplace=True)\n",
    "data.fillna(\"\", inplace=True)\n",
    "empirical_data = data[data[\"empirical\"] == \"Yes\"]"
   ]
  },
  {
   "cell_type": "code",
   "execution_count": 123,
   "metadata": {},
   "outputs": [
    {
     "data": {
      "application/vnd.plotly.v1+json": {
       "config": {
        "plotlyServerURL": "https://plot.ly"
       },
       "data": [
        {
         "alignmentgroup": "True",
         "bingroup": "x",
         "hovertemplate": "empirical=Yes<br>conf_id=%{x}<br>count=%{y}<extra></extra>",
         "legendgroup": "Yes",
         "marker": {
          "color": "#1F77B4",
          "pattern": {
           "shape": ""
          }
         },
         "name": "Yes",
         "offsetgroup": "Yes",
         "orientation": "v",
         "showlegend": true,
         "type": "histogram",
         "x": [
          "ICML'24",
          "ICML'24",
          "ICML'24",
          "ICML'24",
          "ICML'24",
          "ICML'24",
          "ICML'24",
          "ICML'24",
          "ICML'24",
          "ICLR'24",
          "ICLR'24",
          "ICLR'24",
          "ICLR'24",
          "ICLR'24",
          "ICLR'24",
          "ICLR'24",
          "NeurIPS'24",
          "NeurIPS'24",
          "NeurIPS'24",
          "NeurIPS'24",
          "NeurIPS'24",
          "NeurIPS'24",
          "NeurIPS'24",
          "RLC'24",
          "RLC'24",
          "RLC'24",
          "RLC'24",
          "RLC'24"
         ],
         "xaxis": "x",
         "yaxis": "y"
        },
        {
         "alignmentgroup": "True",
         "bingroup": "x",
         "hovertemplate": "empirical=No<br>conf_id=%{x}<br>count=%{y}<extra></extra>",
         "legendgroup": "No",
         "marker": {
          "color": "#FF7F0E",
          "pattern": {
           "shape": ""
          }
         },
         "name": "No",
         "offsetgroup": "No",
         "orientation": "v",
         "showlegend": true,
         "type": "histogram",
         "x": [
          "ICML'24",
          "ICML'24",
          "NeurIPS'24",
          "NeurIPS'24",
          "NeurIPS'24",
          "NeurIPS'24",
          "RLC'24"
         ],
         "xaxis": "x",
         "yaxis": "y"
        },
        {
         "alignmentgroup": "True",
         "bingroup": "x",
         "hovertemplate": "empirical=other<br>conf_id=%{x}<br>count=%{y}<extra></extra>",
         "legendgroup": "other",
         "marker": {
          "color": "#2CA02C",
          "pattern": {
           "shape": ""
          }
         },
         "name": "other",
         "offsetgroup": "other",
         "orientation": "v",
         "showlegend": true,
         "type": "histogram",
         "x": [
          "ICLR'24",
          "ICLR'24",
          "NeurIPS'24",
          "NeurIPS'24",
          "RLC'24"
         ],
         "xaxis": "x",
         "yaxis": "y"
        }
       ],
       "layout": {
        "barmode": "relative",
        "height": 400,
        "legend": {
         "title": {
          "text": "empirical"
         },
         "tracegroupgap": 0
        },
        "margin": {
         "t": 60
        },
        "template": {
         "data": {
          "scatter": [
           {
            "type": "scatter"
           }
          ]
         }
        },
        "title": {
         "text": "Empirical vs Non-Empirical Orals & Awards"
        },
        "width": 600,
        "xaxis": {
         "anchor": "y",
         "domain": [
          0,
          1
         ],
         "title": {
          "text": "Conference"
         }
        },
        "yaxis": {
         "anchor": "x",
         "domain": [
          0,
          1
         ],
         "title": {
          "text": "Number of Papers (Orals & Awards)"
         }
        }
       }
      }
     },
     "metadata": {},
     "output_type": "display_data"
    },
    {
     "data": {
      "application/vnd.plotly.v1+json": {
       "config": {
        "plotlyServerURL": "https://plot.ly"
       },
       "data": [
        {
         "alignmentgroup": "True",
         "bingroup": "x",
         "hovertemplate": "Code available=False<br>conf_id=%{x}<br>count=%{y}<extra></extra>",
         "legendgroup": "False",
         "marker": {
          "color": "#1F77B4",
          "pattern": {
           "shape": ""
          }
         },
         "name": "False",
         "offsetgroup": "False",
         "orientation": "v",
         "showlegend": true,
         "type": "histogram",
         "x": [
          "ICML'24",
          "ICML'24",
          "ICML'24",
          "ICML'24",
          "ICLR'24",
          "ICLR'24",
          "ICLR'24",
          "NeurIPS'24",
          "NeurIPS'24",
          "NeurIPS'24",
          "NeurIPS'24",
          "RLC'24",
          "RLC'24",
          "RLC'24",
          "RLC'24"
         ],
         "xaxis": "x",
         "yaxis": "y"
        },
        {
         "alignmentgroup": "True",
         "bingroup": "x",
         "hovertemplate": "Code available=True<br>conf_id=%{x}<br>count=%{y}<extra></extra>",
         "legendgroup": "True",
         "marker": {
          "color": "#FF7F0E",
          "pattern": {
           "shape": ""
          }
         },
         "name": "True",
         "offsetgroup": "True",
         "orientation": "v",
         "showlegend": true,
         "type": "histogram",
         "x": [
          "ICML'24",
          "ICML'24",
          "ICML'24",
          "ICML'24",
          "ICML'24",
          "ICLR'24",
          "ICLR'24",
          "ICLR'24",
          "ICLR'24",
          "NeurIPS'24",
          "NeurIPS'24",
          "NeurIPS'24",
          "RLC'24"
         ],
         "xaxis": "x",
         "yaxis": "y"
        }
       ],
       "layout": {
        "barmode": "relative",
        "height": 400,
        "legend": {
         "title": {
          "text": "Code available"
         },
         "tracegroupgap": 0
        },
        "margin": {
         "t": 60
        },
        "template": {
         "data": {
          "scatter": [
           {
            "type": "scatter"
           }
          ]
         }
        },
        "title": {
         "text": "Papers with Code Available"
        },
        "width": 600,
        "xaxis": {
         "anchor": "y",
         "domain": [
          0,
          1
         ],
         "title": {
          "text": "Conference"
         }
        },
        "yaxis": {
         "anchor": "x",
         "domain": [
          0,
          1
         ],
         "title": {
          "text": "Number of Papers (Orals & Awards)"
         }
        }
       }
      }
     },
     "metadata": {},
     "output_type": "display_data"
    },
    {
     "data": {
      "application/vnd.plotly.v1+json": {
       "config": {
        "plotlyServerURL": "https://plot.ly"
       },
       "data": [
        {
         "alignmentgroup": "True",
         "bingroup": "x",
         "hovertemplate": "Hyperparameters specified=in appendix<br>conf_id=%{x}<br>count=%{y}<extra></extra>",
         "legendgroup": "in appendix",
         "marker": {
          "color": "#1F77B4",
          "pattern": {
           "shape": ""
          }
         },
         "name": "in appendix",
         "offsetgroup": "in appendix",
         "orientation": "v",
         "showlegend": true,
         "type": "histogram",
         "x": [
          "ICML'24",
          "ICML'24",
          "ICML'24",
          "ICML'24",
          "ICML'24",
          "ICLR'24",
          "ICLR'24",
          "NeurIPS'24",
          "NeurIPS'24",
          "RLC'24"
         ],
         "xaxis": "x",
         "yaxis": "y"
        },
        {
         "alignmentgroup": "True",
         "bingroup": "x",
         "hovertemplate": "Hyperparameters specified=no<br>conf_id=%{x}<br>count=%{y}<extra></extra>",
         "legendgroup": "no",
         "marker": {
          "color": "#FF7F0E",
          "pattern": {
           "shape": ""
          }
         },
         "name": "no",
         "offsetgroup": "no",
         "orientation": "v",
         "showlegend": true,
         "type": "histogram",
         "x": [
          "ICML'24",
          "ICLR'24",
          "NeurIPS'24",
          "RLC'24"
         ],
         "xaxis": "x",
         "yaxis": "y"
        },
        {
         "alignmentgroup": "True",
         "bingroup": "x",
         "hovertemplate": "Hyperparameters specified=yes<br>conf_id=%{x}<br>count=%{y}<extra></extra>",
         "legendgroup": "yes",
         "marker": {
          "color": "#2CA02C",
          "pattern": {
           "shape": ""
          }
         },
         "name": "yes",
         "offsetgroup": "yes",
         "orientation": "v",
         "showlegend": true,
         "type": "histogram",
         "x": [
          "ICML'24",
          "RLC'24",
          "RLC'24"
         ],
         "xaxis": "x",
         "yaxis": "y"
        },
        {
         "alignmentgroup": "True",
         "bingroup": "x",
         "hovertemplate": "Hyperparameters specified=partial in appendix<br>conf_id=%{x}<br>count=%{y}<extra></extra>",
         "legendgroup": "partial in appendix",
         "marker": {
          "color": "#D62728",
          "pattern": {
           "shape": ""
          }
         },
         "name": "partial in appendix",
         "offsetgroup": "partial in appendix",
         "orientation": "v",
         "showlegend": true,
         "type": "histogram",
         "x": [
          "ICML'24",
          "ICML'24",
          "ICLR'24",
          "ICLR'24",
          "ICLR'24",
          "ICLR'24",
          "NeurIPS'24"
         ],
         "xaxis": "x",
         "yaxis": "y"
        },
        {
         "alignmentgroup": "True",
         "bingroup": "x",
         "hovertemplate": "Hyperparameters specified=partial<br>conf_id=%{x}<br>count=%{y}<extra></extra>",
         "legendgroup": "partial",
         "marker": {
          "color": "#9467BD",
          "pattern": {
           "shape": ""
          }
         },
         "name": "partial",
         "offsetgroup": "partial",
         "orientation": "v",
         "showlegend": true,
         "type": "histogram",
         "x": [
          "NeurIPS'24"
         ],
         "xaxis": "x",
         "yaxis": "y"
        },
        {
         "alignmentgroup": "True",
         "bingroup": "x",
         "hovertemplate": "Hyperparameters specified=-<br>conf_id=%{x}<br>count=%{y}<extra></extra>",
         "legendgroup": "-",
         "marker": {
          "color": "#8C564B",
          "pattern": {
           "shape": ""
          }
         },
         "name": "-",
         "offsetgroup": "-",
         "orientation": "v",
         "showlegend": true,
         "type": "histogram",
         "x": [
          "NeurIPS'24",
          "NeurIPS'24"
         ],
         "xaxis": "x",
         "yaxis": "y"
        },
        {
         "alignmentgroup": "True",
         "bingroup": "x",
         "hovertemplate": "Hyperparameters specified=no (only in code)<br>conf_id=%{x}<br>count=%{y}<extra></extra>",
         "legendgroup": "no (only in code)",
         "marker": {
          "color": "#E377C2",
          "pattern": {
           "shape": ""
          }
         },
         "name": "no (only in code)",
         "offsetgroup": "no (only in code)",
         "orientation": "v",
         "showlegend": true,
         "type": "histogram",
         "x": [
          "RLC'24"
         ],
         "xaxis": "x",
         "yaxis": "y"
        }
       ],
       "layout": {
        "barmode": "relative",
        "height": 400,
        "legend": {
         "title": {
          "text": "Hyperparameters specified"
         },
         "tracegroupgap": 0
        },
        "margin": {
         "t": 60
        },
        "template": {
         "data": {
          "scatter": [
           {
            "type": "scatter"
           }
          ]
         }
        },
        "title": {
         "text": "Hyperparameter Specification"
        },
        "width": 600,
        "xaxis": {
         "anchor": "y",
         "domain": [
          0,
          1
         ],
         "title": {
          "text": "Conference"
         }
        },
        "yaxis": {
         "anchor": "x",
         "domain": [
          0,
          1
         ],
         "title": {
          "text": "Number of Papers (Orals & Awards)"
         }
        }
       }
      }
     },
     "metadata": {},
     "output_type": "display_data"
    },
    {
     "data": {
      "application/vnd.plotly.v1+json": {
       "config": {
        "plotlyServerURL": "https://plot.ly"
       },
       "data": [
        {
         "alignmentgroup": "True",
         "bingroup": "x",
         "hovertemplate": "Environment fully specified=not full version<br>conf_id=%{x}<br>count=%{y}<extra></extra>",
         "legendgroup": "not full version",
         "marker": {
          "color": "#1F77B4",
          "pattern": {
           "shape": ""
          }
         },
         "name": "not full version",
         "offsetgroup": "not full version",
         "orientation": "v",
         "showlegend": true,
         "type": "histogram",
         "x": [
          "ICML'24"
         ],
         "xaxis": "x",
         "yaxis": "y"
        },
        {
         "alignmentgroup": "True",
         "bingroup": "x",
         "hovertemplate": "Environment fully specified=no<br>conf_id=%{x}<br>count=%{y}<extra></extra>",
         "legendgroup": "no",
         "marker": {
          "color": "#FF7F0E",
          "pattern": {
           "shape": ""
          }
         },
         "name": "no",
         "offsetgroup": "no",
         "orientation": "v",
         "showlegend": true,
         "type": "histogram",
         "x": [
          "ICML'24",
          "ICML'24",
          "ICML'24",
          "ICML'24",
          "ICML'24",
          "ICLR'24",
          "ICLR'24",
          "ICLR'24",
          "ICLR'24",
          "ICLR'24",
          "NeurIPS'24",
          "NeurIPS'24",
          "RLC'24",
          "RLC'24"
         ],
         "xaxis": "x",
         "yaxis": "y"
        },
        {
         "alignmentgroup": "True",
         "bingroup": "x",
         "hovertemplate": "Environment fully specified=yes<br>conf_id=%{x}<br>count=%{y}<extra></extra>",
         "legendgroup": "yes",
         "marker": {
          "color": "#2CA02C",
          "pattern": {
           "shape": ""
          }
         },
         "name": "yes",
         "offsetgroup": "yes",
         "orientation": "v",
         "showlegend": true,
         "type": "histogram",
         "x": [
          "ICML'24",
          "ICML'24",
          "ICML'24",
          "ICLR'24",
          "NeurIPS'24",
          "RLC'24",
          "RLC'24"
         ],
         "xaxis": "x",
         "yaxis": "y"
        },
        {
         "alignmentgroup": "True",
         "bingroup": "x",
         "hovertemplate": "Environment fully specified=not accessible<br>conf_id=%{x}<br>count=%{y}<extra></extra>",
         "legendgroup": "not accessible",
         "marker": {
          "color": "#D62728",
          "pattern": {
           "shape": ""
          }
         },
         "name": "not accessible",
         "offsetgroup": "not accessible",
         "orientation": "v",
         "showlegend": true,
         "type": "histogram",
         "x": [
          "ICLR'24",
          "RLC'24"
         ],
         "xaxis": "x",
         "yaxis": "y"
        },
        {
         "alignmentgroup": "True",
         "bingroup": "x",
         "hovertemplate": "Environment fully specified=in appendix<br>conf_id=%{x}<br>count=%{y}<extra></extra>",
         "legendgroup": "in appendix",
         "marker": {
          "color": "#9467BD",
          "pattern": {
           "shape": ""
          }
         },
         "name": "in appendix",
         "offsetgroup": "in appendix",
         "orientation": "v",
         "showlegend": true,
         "type": "histogram",
         "x": [
          "NeurIPS'24"
         ],
         "xaxis": "x",
         "yaxis": "y"
        },
        {
         "alignmentgroup": "True",
         "bingroup": "x",
         "hovertemplate": "Environment fully specified=-<br>conf_id=%{x}<br>count=%{y}<extra></extra>",
         "legendgroup": "-",
         "marker": {
          "color": "#8C564B",
          "pattern": {
           "shape": ""
          }
         },
         "name": "-",
         "offsetgroup": "-",
         "orientation": "v",
         "showlegend": true,
         "type": "histogram",
         "x": [
          "NeurIPS'24",
          "NeurIPS'24",
          "NeurIPS'24"
         ],
         "xaxis": "x",
         "yaxis": "y"
        }
       ],
       "layout": {
        "barmode": "relative",
        "height": 400,
        "legend": {
         "title": {
          "text": "Environment fully specified"
         },
         "tracegroupgap": 0
        },
        "margin": {
         "t": 60
        },
        "template": {
         "data": {
          "scatter": [
           {
            "type": "scatter"
           }
          ]
         }
        },
        "title": {
         "text": "Full Environment Specification"
        },
        "width": 600,
        "xaxis": {
         "anchor": "y",
         "domain": [
          0,
          1
         ],
         "title": {
          "text": "Conference"
         }
        },
        "yaxis": {
         "anchor": "x",
         "domain": [
          0,
          1
         ],
         "title": {
          "text": "Number of Papers (Orals & Awards)"
         }
        }
       }
      }
     },
     "metadata": {},
     "output_type": "display_data"
    },
    {
     "data": {
      "application/vnd.plotly.v1+json": {
       "config": {
        "plotlyServerURL": "https://plot.ly"
       },
       "data": [
        {
         "alignmentgroup": "True",
         "bingroup": "x",
         "hovertemplate": "Number of Seeds=0<br>conf_id=%{x}<br>count=%{y}<extra></extra>",
         "legendgroup": "0",
         "marker": {
          "color": "#1F77B4",
          "pattern": {
           "shape": ""
          }
         },
         "name": "0",
         "offsetgroup": "0",
         "orientation": "v",
         "showlegend": true,
         "type": "histogram",
         "x": [
          "ICML'24",
          "ICML'24",
          "NeurIPS'24"
         ],
         "xaxis": "x",
         "yaxis": "y"
        },
        {
         "alignmentgroup": "True",
         "bingroup": "x",
         "hovertemplate": "Number of Seeds=1-5<br>conf_id=%{x}<br>count=%{y}<extra></extra>",
         "legendgroup": "1-5",
         "marker": {
          "color": "#FF7F0E",
          "pattern": {
           "shape": ""
          }
         },
         "name": "1-5",
         "offsetgroup": "1-5",
         "orientation": "v",
         "showlegend": true,
         "type": "histogram",
         "x": [
          "ICML'24",
          "ICML'24",
          "ICML'24",
          "ICML'24",
          "ICLR'24",
          "ICLR'24",
          "ICLR'24",
          "ICLR'24",
          "ICLR'24",
          "NeurIPS'24",
          "NeurIPS'24",
          "NeurIPS'24",
          "NeurIPS'24",
          "NeurIPS'24",
          "NeurIPS'24",
          "RLC'24"
         ],
         "xaxis": "x",
         "yaxis": "y"
        },
        {
         "alignmentgroup": "True",
         "bingroup": "x",
         "hovertemplate": "Number of Seeds=6-10<br>conf_id=%{x}<br>count=%{y}<extra></extra>",
         "legendgroup": "6-10",
         "marker": {
          "color": "#2CA02C",
          "pattern": {
           "shape": ""
          }
         },
         "name": "6-10",
         "offsetgroup": "6-10",
         "orientation": "v",
         "showlegend": true,
         "type": "histogram",
         "x": [
          "ICML'24",
          "ICML'24",
          "ICML'24",
          "ICLR'24",
          "ICLR'24",
          "RLC'24",
          "RLC'24",
          "RLC'24"
         ],
         "xaxis": "x",
         "yaxis": "y"
        },
        {
         "alignmentgroup": "True",
         "bingroup": "x",
         "hovertemplate": "Number of Seeds=over 10<br>conf_id=%{x}<br>count=%{y}<extra></extra>",
         "legendgroup": "over 10",
         "marker": {
          "color": "#D62728",
          "pattern": {
           "shape": ""
          }
         },
         "name": "over 10",
         "offsetgroup": "over 10",
         "orientation": "v",
         "showlegend": true,
         "type": "histogram",
         "x": [
          "RLC'24"
         ],
         "xaxis": "x",
         "yaxis": "y"
        }
       ],
       "layout": {
        "barmode": "relative",
        "height": 400,
        "legend": {
         "title": {
          "text": "Number of Seeds"
         },
         "tracegroupgap": 0
        },
        "margin": {
         "t": 60
        },
        "template": {
         "data": {
          "scatter": [
           {
            "type": "scatter"
           }
          ]
         }
        },
        "title": {
         "text": "Number of Seeds"
        },
        "width": 600,
        "xaxis": {
         "anchor": "y",
         "domain": [
          0,
          1
         ],
         "title": {
          "text": "Conference"
         }
        },
        "yaxis": {
         "anchor": "x",
         "domain": [
          0,
          1
         ],
         "title": {
          "text": "Number of Papers (Orals & Awards)"
         }
        }
       }
      }
     },
     "metadata": {},
     "output_type": "display_data"
    }
   ],
   "source": [
    "# Empirical vs non-empirical papers\n",
    "axes = {\"xaxis_title\": \"Conference\", \"yaxis_title\": \"Number of Papers (Orals & Awards)\"}\n",
    "fig = px.histogram(data, x='conf_id', color='empirical', **figure_kwargs).update_layout(title=\"Empirical vs Non-Empirical Orals & Awards\", **axes)\n",
    "fig.write_image(\"plots/manual_analysis_empirical.svg\")\n",
    "fig.show()\n",
    "\n",
    "# Code\n",
    "fig = px.histogram(empirical_data, x='conf_id', color='Code available', **figure_kwargs).update_layout(title=\"Papers with Code Available\", **axes)\n",
    "fig.write_image(\"plots/manual_analysis_code.svg\")\n",
    "fig.show()\n",
    "\n",
    "# HPs\n",
    "fig = px.histogram(empirical_data, x='conf_id', color='Hyperparameters specified', **figure_kwargs).update_layout(title=\"Hyperparameter Specification\", **axes)\n",
    "fig.write_image(\"plots/manual_analysis_hps.svg\")\n",
    "fig.show()\n",
    "\n",
    "# Env\n",
    "fig = px.histogram(empirical_data, x='conf_id', color='Environment fully specified', **figure_kwargs).update_layout(title=\"Full Environment Specification\", **axes)\n",
    "fig.write_image(\"plots/manual_analysis_env.svg\")\n",
    "fig.show()\n",
    "\n",
    "# Seeds\n",
    "fig = px.histogram(empirical_data, x='conf_id', color='Number of Seeds', category_orders={\"Number of Seeds\": [\"0\", \"1-5\", \"6-10\", \"over 10\"]}, **figure_kwargs).update_layout(title=\"Number of Seeds\", **axes)\n",
    "fig.write_image(\"plots/manual_analysis_seeds.svg\")\n",
    "fig.show()"
   ]
  },
  {
   "cell_type": "code",
   "execution_count": 121,
   "metadata": {},
   "outputs": [],
   "source": [
    "# Algorithms mentioned at least 3 times\n",
    "counts = []\n",
    "for c in data.columns:\n",
    "    if \"algorithm\" in c:\n",
    "        counts.append(data[c].unique())\n",
    "all_algorithms = list(set(np.concatenate(counts)))\n",
    "years = []\n",
    "conferences = []\n",
    "algos = []\n",
    "counts = []\n",
    "for a in all_algorithms:\n",
    "    if a != \"\" and a != \" \" and a != \"-\":\n",
    "        for year in data['year'].unique():\n",
    "            for conference in data['conference'].unique():\n",
    "                c = 0\n",
    "                all = []\n",
    "                for col in data.columns:\n",
    "                    if \"algorithm\" in col:\n",
    "                        c += data[(data['year'] == year) & (data['conference'] == conference)][col].str.contains(a).sum()\n",
    "                        all.append(data[(data['year'] == year) & (data['conference'] == conference)][col].unique())\n",
    "                years.append(year)\n",
    "                conferences.append(conference)\n",
    "                algos.append(a)\n",
    "                counts.append(c)\n",
    "count_df = pd.DataFrame({'year': years, 'conference': conferences, 'algorithm': algos, 'counts': counts})\n",
    "for a in algos:\n",
    "    if count_df[count_df['algorithm'] == a]['counts'].sum() < 3:\n",
    "        count_df = count_df[count_df['algorithm'] != a]"
   ]
  },
  {
   "cell_type": "code",
   "execution_count": null,
   "metadata": {},
   "outputs": [
    {
     "data": {
      "application/vnd.plotly.v1+json": {
       "config": {
        "plotlyServerURL": "https://plot.ly"
       },
       "data": [
        {
         "alignmentgroup": "True",
         "bingroup": "x",
         "histfunc": "sum",
         "hovertemplate": "algorithm=%{x}<br>sum of counts=%{y}<extra></extra>",
         "legendgroup": "",
         "marker": {
          "color": "#1F77B4",
          "pattern": {
           "shape": ""
          }
         },
         "name": "",
         "offsetgroup": "",
         "orientation": "v",
         "showlegend": false,
         "type": "histogram",
         "x": [
          "TD",
          "TD",
          "TD",
          "TD",
          "SAC",
          "SAC",
          "SAC",
          "SAC",
          "DQN",
          "DQN",
          "DQN",
          "DQN",
          "BC",
          "BC",
          "BC",
          "BC",
          "PPO",
          "PPO",
          "PPO",
          "PPO"
         ],
         "xaxis": "x",
         "y": [
          2,
          0,
          0,
          1,
          4,
          1,
          0,
          2,
          2,
          1,
          0,
          1,
          3,
          1,
          0,
          0,
          3,
          4,
          2,
          3
         ],
         "yaxis": "y"
        }
       ],
       "layout": {
        "barmode": "relative",
        "height": 400,
        "legend": {
         "tracegroupgap": 0
        },
        "margin": {
         "t": 60
        },
        "template": {
         "data": {
          "scatter": [
           {
            "type": "scatter"
           }
          ]
         }
        },
        "title": {
         "text": "Algorithm Usage in Papers"
        },
        "width": 600,
        "xaxis": {
         "anchor": "y",
         "categoryorder": "total descending",
         "domain": [
          0,
          1
         ],
         "title": {
          "text": "Algorithm"
         }
        },
        "yaxis": {
         "anchor": "x",
         "domain": [
          0,
          1
         ],
         "title": {
          "text": "Number of Papers (Orals & Awards)"
         }
        }
       }
      }
     },
     "metadata": {},
     "output_type": "display_data"
    },
    {
     "data": {
      "application/vnd.plotly.v1+json": {
       "config": {
        "plotlyServerURL": "https://plot.ly"
       },
       "data": [
        {
         "alignmentgroup": "True",
         "bingroup": "x",
         "histfunc": "sum",
         "hovertemplate": "conference=icml<br>algorithm=%{x}<br>sum of counts=%{y}<extra></extra>",
         "legendgroup": "icml",
         "marker": {
          "color": "#1F77B4",
          "pattern": {
           "shape": ""
          }
         },
         "name": "icml",
         "offsetgroup": "icml",
         "orientation": "v",
         "showlegend": true,
         "type": "histogram",
         "x": [
          "TD",
          "SAC",
          "DQN",
          "BC",
          "PPO"
         ],
         "xaxis": "x",
         "y": [
          2,
          4,
          2,
          3,
          3
         ],
         "yaxis": "y"
        },
        {
         "alignmentgroup": "True",
         "bingroup": "x",
         "histfunc": "sum",
         "hovertemplate": "conference=iclr<br>algorithm=%{x}<br>sum of counts=%{y}<extra></extra>",
         "legendgroup": "iclr",
         "marker": {
          "color": "#FF7F0E",
          "pattern": {
           "shape": ""
          }
         },
         "name": "iclr",
         "offsetgroup": "iclr",
         "orientation": "v",
         "showlegend": true,
         "type": "histogram",
         "x": [
          "TD",
          "SAC",
          "DQN",
          "BC",
          "PPO"
         ],
         "xaxis": "x",
         "y": [
          0,
          1,
          1,
          1,
          4
         ],
         "yaxis": "y"
        },
        {
         "alignmentgroup": "True",
         "bingroup": "x",
         "histfunc": "sum",
         "hovertemplate": "conference=neurips<br>algorithm=%{x}<br>sum of counts=%{y}<extra></extra>",
         "legendgroup": "neurips",
         "marker": {
          "color": "#2CA02C",
          "pattern": {
           "shape": ""
          }
         },
         "name": "neurips",
         "offsetgroup": "neurips",
         "orientation": "v",
         "showlegend": true,
         "type": "histogram",
         "x": [
          "TD",
          "SAC",
          "DQN",
          "BC",
          "PPO"
         ],
         "xaxis": "x",
         "y": [
          0,
          0,
          0,
          0,
          2
         ],
         "yaxis": "y"
        },
        {
         "alignmentgroup": "True",
         "bingroup": "x",
         "histfunc": "sum",
         "hovertemplate": "conference=rlc<br>algorithm=%{x}<br>sum of counts=%{y}<extra></extra>",
         "legendgroup": "rlc",
         "marker": {
          "color": "#D62728",
          "pattern": {
           "shape": ""
          }
         },
         "name": "rlc",
         "offsetgroup": "rlc",
         "orientation": "v",
         "showlegend": true,
         "type": "histogram",
         "x": [
          "TD",
          "SAC",
          "DQN",
          "BC",
          "PPO"
         ],
         "xaxis": "x",
         "y": [
          1,
          2,
          1,
          0,
          3
         ],
         "yaxis": "y"
        }
       ],
       "layout": {
        "barmode": "relative",
        "height": 400,
        "legend": {
         "title": {
          "text": "conference"
         },
         "tracegroupgap": 0
        },
        "margin": {
         "t": 60
        },
        "template": {
         "data": {
          "scatter": [
           {
            "type": "scatter"
           }
          ]
         }
        },
        "title": {
         "text": "Algorithm Usage in Papers by Conference"
        },
        "width": 600,
        "xaxis": {
         "anchor": "y",
         "categoryorder": "total descending",
         "domain": [
          0,
          1
         ],
         "title": {
          "text": "Algorithm"
         }
        },
        "yaxis": {
         "anchor": "x",
         "domain": [
          0,
          1
         ],
         "title": {
          "text": "Number of Papers (Orals & Awards)"
         }
        }
       }
      }
     },
     "metadata": {},
     "output_type": "display_data"
    }
   ],
   "source": [
    "fig = px.histogram(count_df, y=\"counts\", x=\"algorithm\", **figure_kwargs).update_xaxes(categoryorder=\"total descending\").update_layout(xaxis_title=\"Algorithm\", yaxis_title=\"Frequency of Algorithm Usage\", title=\"Algorithm Usage in Papers\")\n",
    "fig.write_image(\"plots/manual_analysis_algorithms.svg\")\n",
    "fig.show()\n",
    "fig = px.histogram(count_df, y=\"counts\", x=\"algorithm\", color=\"conference\", **figure_kwargs).update_xaxes(categoryorder=\"total descending\").update_layout(xaxis_title=\"Algorithm\", yaxis_title=\"Frequency of Algorithm Usage\", title=\"Algorithm Usage in Papers by Conference\")\n",
    "fig.write_image(\"plots/manual_analysis_algorithms_per_conf.svg\")\n",
    "fig.show()"
   ]
  }
 ],
 "metadata": {
  "kernelspec": {
   "display_name": "arlbench",
   "language": "python",
   "name": "python3"
  },
  "language_info": {
   "codemirror_mode": {
    "name": "ipython",
    "version": 3
   },
   "file_extension": ".py",
   "mimetype": "text/x-python",
   "name": "python",
   "nbconvert_exporter": "python",
   "pygments_lexer": "ipython3",
   "version": "3.10.14"
  }
 },
 "nbformat": 4,
 "nbformat_minor": 2
}
